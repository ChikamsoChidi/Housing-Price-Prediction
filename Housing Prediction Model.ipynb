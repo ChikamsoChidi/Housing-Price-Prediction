{
 "cells": [
  {
   "cell_type": "markdown",
   "id": "762ae0ff",
   "metadata": {},
   "source": [
    "## Import Data"
   ]
  },
  {
   "cell_type": "code",
   "execution_count": 1,
   "id": "1ba7df9a",
   "metadata": {},
   "outputs": [],
   "source": [
    "#import libraries\n",
    "import pandas as pd \n",
    "import numpy as np\n",
    "import matplotlib.pyplot as plt"
   ]
  },
  {
   "cell_type": "code",
   "execution_count": 2,
   "id": "2324f640",
   "metadata": {},
   "outputs": [
    {
     "data": {
      "text/html": [
       "<div>\n",
       "<style scoped>\n",
       "    .dataframe tbody tr th:only-of-type {\n",
       "        vertical-align: middle;\n",
       "    }\n",
       "\n",
       "    .dataframe tbody tr th {\n",
       "        vertical-align: top;\n",
       "    }\n",
       "\n",
       "    .dataframe thead th {\n",
       "        text-align: right;\n",
       "    }\n",
       "</style>\n",
       "<table border=\"1\" class=\"dataframe\">\n",
       "  <thead>\n",
       "    <tr style=\"text-align: right;\">\n",
       "      <th></th>\n",
       "      <th>longitude</th>\n",
       "      <th>latitude</th>\n",
       "      <th>housing_median_age</th>\n",
       "      <th>total_rooms</th>\n",
       "      <th>total_bedrooms</th>\n",
       "      <th>population</th>\n",
       "      <th>households</th>\n",
       "      <th>median_income</th>\n",
       "      <th>median_house_value</th>\n",
       "      <th>ocean_proximity</th>\n",
       "    </tr>\n",
       "  </thead>\n",
       "  <tbody>\n",
       "    <tr>\n",
       "      <th>0</th>\n",
       "      <td>-122.23</td>\n",
       "      <td>37.88</td>\n",
       "      <td>41.0</td>\n",
       "      <td>880.0</td>\n",
       "      <td>129.0</td>\n",
       "      <td>322.0</td>\n",
       "      <td>126.0</td>\n",
       "      <td>8.3252</td>\n",
       "      <td>452600.0</td>\n",
       "      <td>NEAR BAY</td>\n",
       "    </tr>\n",
       "    <tr>\n",
       "      <th>1</th>\n",
       "      <td>-122.22</td>\n",
       "      <td>37.86</td>\n",
       "      <td>21.0</td>\n",
       "      <td>7099.0</td>\n",
       "      <td>1106.0</td>\n",
       "      <td>2401.0</td>\n",
       "      <td>1138.0</td>\n",
       "      <td>8.3014</td>\n",
       "      <td>358500.0</td>\n",
       "      <td>NEAR BAY</td>\n",
       "    </tr>\n",
       "    <tr>\n",
       "      <th>2</th>\n",
       "      <td>-122.24</td>\n",
       "      <td>37.85</td>\n",
       "      <td>52.0</td>\n",
       "      <td>1467.0</td>\n",
       "      <td>190.0</td>\n",
       "      <td>496.0</td>\n",
       "      <td>177.0</td>\n",
       "      <td>7.2574</td>\n",
       "      <td>352100.0</td>\n",
       "      <td>NEAR BAY</td>\n",
       "    </tr>\n",
       "    <tr>\n",
       "      <th>3</th>\n",
       "      <td>-122.25</td>\n",
       "      <td>37.85</td>\n",
       "      <td>52.0</td>\n",
       "      <td>1274.0</td>\n",
       "      <td>235.0</td>\n",
       "      <td>558.0</td>\n",
       "      <td>219.0</td>\n",
       "      <td>5.6431</td>\n",
       "      <td>341300.0</td>\n",
       "      <td>NEAR BAY</td>\n",
       "    </tr>\n",
       "    <tr>\n",
       "      <th>4</th>\n",
       "      <td>-122.25</td>\n",
       "      <td>37.85</td>\n",
       "      <td>52.0</td>\n",
       "      <td>1627.0</td>\n",
       "      <td>280.0</td>\n",
       "      <td>565.0</td>\n",
       "      <td>259.0</td>\n",
       "      <td>3.8462</td>\n",
       "      <td>342200.0</td>\n",
       "      <td>NEAR BAY</td>\n",
       "    </tr>\n",
       "  </tbody>\n",
       "</table>\n",
       "</div>"
      ],
      "text/plain": [
       "   longitude  latitude  housing_median_age  total_rooms  total_bedrooms  \\\n",
       "0    -122.23     37.88                41.0        880.0           129.0   \n",
       "1    -122.22     37.86                21.0       7099.0          1106.0   \n",
       "2    -122.24     37.85                52.0       1467.0           190.0   \n",
       "3    -122.25     37.85                52.0       1274.0           235.0   \n",
       "4    -122.25     37.85                52.0       1627.0           280.0   \n",
       "\n",
       "   population  households  median_income  median_house_value ocean_proximity  \n",
       "0       322.0       126.0         8.3252            452600.0        NEAR BAY  \n",
       "1      2401.0      1138.0         8.3014            358500.0        NEAR BAY  \n",
       "2       496.0       177.0         7.2574            352100.0        NEAR BAY  \n",
       "3       558.0       219.0         5.6431            341300.0        NEAR BAY  \n",
       "4       565.0       259.0         3.8462            342200.0        NEAR BAY  "
      ]
     },
     "execution_count": 2,
     "metadata": {},
     "output_type": "execute_result"
    }
   ],
   "source": [
    "#load csv files\n",
    "csv = \"housing.csv\"\n",
    "housing_data = pd.read_csv(csv)\n",
    "housing_data.head()"
   ]
  },
  {
   "cell_type": "markdown",
   "id": "b732a376",
   "metadata": {},
   "source": [
    "## Understanding the dataset"
   ]
  },
  {
   "cell_type": "code",
   "execution_count": 3,
   "id": "4ce3e1ab",
   "metadata": {},
   "outputs": [
    {
     "data": {
      "text/plain": [
       "Index(['longitude', 'latitude', 'housing_median_age', 'total_rooms',\n",
       "       'total_bedrooms', 'population', 'households', 'median_income',\n",
       "       'median_house_value', 'ocean_proximity'],\n",
       "      dtype='object')"
      ]
     },
     "execution_count": 3,
     "metadata": {},
     "output_type": "execute_result"
    }
   ],
   "source": [
    "housing_data.columns"
   ]
  },
  {
   "cell_type": "code",
   "execution_count": 4,
   "id": "81e1ab7b",
   "metadata": {},
   "outputs": [
    {
     "name": "stdout",
     "output_type": "stream",
     "text": [
      "<class 'pandas.core.frame.DataFrame'>\n",
      "RangeIndex: 20640 entries, 0 to 20639\n",
      "Data columns (total 10 columns):\n",
      " #   Column              Non-Null Count  Dtype  \n",
      "---  ------              --------------  -----  \n",
      " 0   longitude           20640 non-null  float64\n",
      " 1   latitude            20640 non-null  float64\n",
      " 2   housing_median_age  20640 non-null  float64\n",
      " 3   total_rooms         20640 non-null  float64\n",
      " 4   total_bedrooms      20433 non-null  float64\n",
      " 5   population          20640 non-null  float64\n",
      " 6   households          20640 non-null  float64\n",
      " 7   median_income       20640 non-null  float64\n",
      " 8   median_house_value  20640 non-null  float64\n",
      " 9   ocean_proximity     20640 non-null  object \n",
      "dtypes: float64(9), object(1)\n",
      "memory usage: 1.6+ MB\n"
     ]
    }
   ],
   "source": [
    "housing_data.info()"
   ]
  },
  {
   "cell_type": "code",
   "execution_count": 5,
   "id": "090d3ed1",
   "metadata": {},
   "outputs": [],
   "source": [
    "#identified NaN values in the total bedrooms data set\n",
    "housing_data[housing_data['total_bedrooms'].isna()].head()\n",
    "\n",
    "housing_data.dropna(inplace=True)"
   ]
  },
  {
   "cell_type": "code",
   "execution_count": 6,
   "id": "74ff7b0a",
   "metadata": {},
   "outputs": [
    {
     "data": {
      "text/html": [
       "<div>\n",
       "<style scoped>\n",
       "    .dataframe tbody tr th:only-of-type {\n",
       "        vertical-align: middle;\n",
       "    }\n",
       "\n",
       "    .dataframe tbody tr th {\n",
       "        vertical-align: top;\n",
       "    }\n",
       "\n",
       "    .dataframe thead th {\n",
       "        text-align: right;\n",
       "    }\n",
       "</style>\n",
       "<table border=\"1\" class=\"dataframe\">\n",
       "  <thead>\n",
       "    <tr style=\"text-align: right;\">\n",
       "      <th></th>\n",
       "      <th>longitude</th>\n",
       "      <th>latitude</th>\n",
       "      <th>housing_median_age</th>\n",
       "      <th>total_rooms</th>\n",
       "      <th>total_bedrooms</th>\n",
       "      <th>population</th>\n",
       "      <th>households</th>\n",
       "      <th>median_income</th>\n",
       "      <th>median_house_value</th>\n",
       "    </tr>\n",
       "  </thead>\n",
       "  <tbody>\n",
       "    <tr>\n",
       "      <th>count</th>\n",
       "      <td>20433.000000</td>\n",
       "      <td>20433.000000</td>\n",
       "      <td>20433.000000</td>\n",
       "      <td>20433.000000</td>\n",
       "      <td>20433.000000</td>\n",
       "      <td>20433.000000</td>\n",
       "      <td>20433.000000</td>\n",
       "      <td>20433.000000</td>\n",
       "      <td>20433.000000</td>\n",
       "    </tr>\n",
       "    <tr>\n",
       "      <th>mean</th>\n",
       "      <td>-119.570689</td>\n",
       "      <td>35.633221</td>\n",
       "      <td>28.633094</td>\n",
       "      <td>2636.504233</td>\n",
       "      <td>537.870553</td>\n",
       "      <td>1424.946949</td>\n",
       "      <td>499.433465</td>\n",
       "      <td>3.871162</td>\n",
       "      <td>206864.413155</td>\n",
       "    </tr>\n",
       "    <tr>\n",
       "      <th>std</th>\n",
       "      <td>2.003578</td>\n",
       "      <td>2.136348</td>\n",
       "      <td>12.591805</td>\n",
       "      <td>2185.269567</td>\n",
       "      <td>421.385070</td>\n",
       "      <td>1133.208490</td>\n",
       "      <td>382.299226</td>\n",
       "      <td>1.899291</td>\n",
       "      <td>115435.667099</td>\n",
       "    </tr>\n",
       "    <tr>\n",
       "      <th>min</th>\n",
       "      <td>-124.350000</td>\n",
       "      <td>32.540000</td>\n",
       "      <td>1.000000</td>\n",
       "      <td>2.000000</td>\n",
       "      <td>1.000000</td>\n",
       "      <td>3.000000</td>\n",
       "      <td>1.000000</td>\n",
       "      <td>0.499900</td>\n",
       "      <td>14999.000000</td>\n",
       "    </tr>\n",
       "    <tr>\n",
       "      <th>25%</th>\n",
       "      <td>-121.800000</td>\n",
       "      <td>33.930000</td>\n",
       "      <td>18.000000</td>\n",
       "      <td>1450.000000</td>\n",
       "      <td>296.000000</td>\n",
       "      <td>787.000000</td>\n",
       "      <td>280.000000</td>\n",
       "      <td>2.563700</td>\n",
       "      <td>119500.000000</td>\n",
       "    </tr>\n",
       "    <tr>\n",
       "      <th>50%</th>\n",
       "      <td>-118.490000</td>\n",
       "      <td>34.260000</td>\n",
       "      <td>29.000000</td>\n",
       "      <td>2127.000000</td>\n",
       "      <td>435.000000</td>\n",
       "      <td>1166.000000</td>\n",
       "      <td>409.000000</td>\n",
       "      <td>3.536500</td>\n",
       "      <td>179700.000000</td>\n",
       "    </tr>\n",
       "    <tr>\n",
       "      <th>75%</th>\n",
       "      <td>-118.010000</td>\n",
       "      <td>37.720000</td>\n",
       "      <td>37.000000</td>\n",
       "      <td>3143.000000</td>\n",
       "      <td>647.000000</td>\n",
       "      <td>1722.000000</td>\n",
       "      <td>604.000000</td>\n",
       "      <td>4.744000</td>\n",
       "      <td>264700.000000</td>\n",
       "    </tr>\n",
       "    <tr>\n",
       "      <th>max</th>\n",
       "      <td>-114.310000</td>\n",
       "      <td>41.950000</td>\n",
       "      <td>52.000000</td>\n",
       "      <td>39320.000000</td>\n",
       "      <td>6445.000000</td>\n",
       "      <td>35682.000000</td>\n",
       "      <td>6082.000000</td>\n",
       "      <td>15.000100</td>\n",
       "      <td>500001.000000</td>\n",
       "    </tr>\n",
       "  </tbody>\n",
       "</table>\n",
       "</div>"
      ],
      "text/plain": [
       "          longitude      latitude  housing_median_age   total_rooms  \\\n",
       "count  20433.000000  20433.000000        20433.000000  20433.000000   \n",
       "mean    -119.570689     35.633221           28.633094   2636.504233   \n",
       "std        2.003578      2.136348           12.591805   2185.269567   \n",
       "min     -124.350000     32.540000            1.000000      2.000000   \n",
       "25%     -121.800000     33.930000           18.000000   1450.000000   \n",
       "50%     -118.490000     34.260000           29.000000   2127.000000   \n",
       "75%     -118.010000     37.720000           37.000000   3143.000000   \n",
       "max     -114.310000     41.950000           52.000000  39320.000000   \n",
       "\n",
       "       total_bedrooms    population    households  median_income  \\\n",
       "count    20433.000000  20433.000000  20433.000000   20433.000000   \n",
       "mean       537.870553   1424.946949    499.433465       3.871162   \n",
       "std        421.385070   1133.208490    382.299226       1.899291   \n",
       "min          1.000000      3.000000      1.000000       0.499900   \n",
       "25%        296.000000    787.000000    280.000000       2.563700   \n",
       "50%        435.000000   1166.000000    409.000000       3.536500   \n",
       "75%        647.000000   1722.000000    604.000000       4.744000   \n",
       "max       6445.000000  35682.000000   6082.000000      15.000100   \n",
       "\n",
       "       median_house_value  \n",
       "count        20433.000000  \n",
       "mean        206864.413155  \n",
       "std         115435.667099  \n",
       "min          14999.000000  \n",
       "25%         119500.000000  \n",
       "50%         179700.000000  \n",
       "75%         264700.000000  \n",
       "max         500001.000000  "
      ]
     },
     "execution_count": 6,
     "metadata": {},
     "output_type": "execute_result"
    }
   ],
   "source": [
    "housing_data.describe()"
   ]
  },
  {
   "cell_type": "code",
   "execution_count": 7,
   "id": "e46f9d5f",
   "metadata": {},
   "outputs": [
    {
     "data": {
      "image/png": "[encoded data removed]",
      "text/plain": [
       "<Figure size 2000x1500 with 9 Axes>"
      ]
     },
     "metadata": {},
     "output_type": "display_data"
    }
   ],
   "source": [
    "#plot a histogram for the different columns\n",
    "housing_data.hist(bins =50, figsize = (20,15))\n",
    "plt.show()"
   ]
  },
  {
   "cell_type": "markdown",
   "id": "702129ae",
   "metadata": {},
   "source": [
    "Many columns in this dataset are skewed. Using the standard scaler to scale the data about the mean will remove this feature. The median house value column has prices above 500,000 truncated to become 500,000, this will affect the model, it should be removed."
   ]
  },
  {
   "cell_type": "code",
   "execution_count": 8,
   "id": "2e38546d",
   "metadata": {},
   "outputs": [],
   "source": [
    "housing_data = housing_data[housing_data['median_house_value'] <= 500000].copy()\n",
    "housing_data = housing_data[housing_data['housing_median_age'] < 52].reset_index(drop = True).copy()"
   ]
  },
  {
   "cell_type": "code",
   "execution_count": 9,
   "id": "1331225f",
   "metadata": {},
   "outputs": [
    {
     "data": {
      "text/html": [
       "<div>\n",
       "<style scoped>\n",
       "    .dataframe tbody tr th:only-of-type {\n",
       "        vertical-align: middle;\n",
       "    }\n",
       "\n",
       "    .dataframe tbody tr th {\n",
       "        vertical-align: top;\n",
       "    }\n",
       "\n",
       "    .dataframe thead th {\n",
       "        text-align: right;\n",
       "    }\n",
       "</style>\n",
       "<table border=\"1\" class=\"dataframe\">\n",
       "  <thead>\n",
       "    <tr style=\"text-align: right;\">\n",
       "      <th></th>\n",
       "      <th>longitude</th>\n",
       "      <th>latitude</th>\n",
       "      <th>housing_median_age</th>\n",
       "      <th>total_rooms</th>\n",
       "      <th>total_bedrooms</th>\n",
       "      <th>population</th>\n",
       "      <th>households</th>\n",
       "      <th>median_income</th>\n",
       "      <th>median_house_value</th>\n",
       "      <th>ocean_proximity</th>\n",
       "    </tr>\n",
       "  </thead>\n",
       "  <tbody>\n",
       "    <tr>\n",
       "      <th>0</th>\n",
       "      <td>-122.23</td>\n",
       "      <td>37.88</td>\n",
       "      <td>41.0</td>\n",
       "      <td>880.0</td>\n",
       "      <td>129.0</td>\n",
       "      <td>322.0</td>\n",
       "      <td>126.0</td>\n",
       "      <td>8.3252</td>\n",
       "      <td>452600.0</td>\n",
       "      <td>NEAR BAY</td>\n",
       "    </tr>\n",
       "    <tr>\n",
       "      <th>1</th>\n",
       "      <td>-122.22</td>\n",
       "      <td>37.86</td>\n",
       "      <td>21.0</td>\n",
       "      <td>7099.0</td>\n",
       "      <td>1106.0</td>\n",
       "      <td>2401.0</td>\n",
       "      <td>1138.0</td>\n",
       "      <td>8.3014</td>\n",
       "      <td>358500.0</td>\n",
       "      <td>NEAR BAY</td>\n",
       "    </tr>\n",
       "    <tr>\n",
       "      <th>2</th>\n",
       "      <td>-122.26</td>\n",
       "      <td>37.84</td>\n",
       "      <td>42.0</td>\n",
       "      <td>2555.0</td>\n",
       "      <td>665.0</td>\n",
       "      <td>1206.0</td>\n",
       "      <td>595.0</td>\n",
       "      <td>2.0804</td>\n",
       "      <td>226700.0</td>\n",
       "      <td>NEAR BAY</td>\n",
       "    </tr>\n",
       "    <tr>\n",
       "      <th>3</th>\n",
       "      <td>-122.26</td>\n",
       "      <td>37.85</td>\n",
       "      <td>50.0</td>\n",
       "      <td>1120.0</td>\n",
       "      <td>283.0</td>\n",
       "      <td>697.0</td>\n",
       "      <td>264.0</td>\n",
       "      <td>2.1250</td>\n",
       "      <td>140000.0</td>\n",
       "      <td>NEAR BAY</td>\n",
       "    </tr>\n",
       "    <tr>\n",
       "      <th>4</th>\n",
       "      <td>-122.26</td>\n",
       "      <td>37.84</td>\n",
       "      <td>50.0</td>\n",
       "      <td>2239.0</td>\n",
       "      <td>455.0</td>\n",
       "      <td>990.0</td>\n",
       "      <td>419.0</td>\n",
       "      <td>1.9911</td>\n",
       "      <td>158700.0</td>\n",
       "      <td>NEAR BAY</td>\n",
       "    </tr>\n",
       "    <tr>\n",
       "      <th>...</th>\n",
       "      <td>...</td>\n",
       "      <td>...</td>\n",
       "      <td>...</td>\n",
       "      <td>...</td>\n",
       "      <td>...</td>\n",
       "      <td>...</td>\n",
       "      <td>...</td>\n",
       "      <td>...</td>\n",
       "      <td>...</td>\n",
       "      <td>...</td>\n",
       "    </tr>\n",
       "    <tr>\n",
       "      <th>18374</th>\n",
       "      <td>-121.09</td>\n",
       "      <td>39.48</td>\n",
       "      <td>25.0</td>\n",
       "      <td>1665.0</td>\n",
       "      <td>374.0</td>\n",
       "      <td>845.0</td>\n",
       "      <td>330.0</td>\n",
       "      <td>1.5603</td>\n",
       "      <td>78100.0</td>\n",
       "      <td>INLAND</td>\n",
       "    </tr>\n",
       "    <tr>\n",
       "      <th>18375</th>\n",
       "      <td>-121.21</td>\n",
       "      <td>39.49</td>\n",
       "      <td>18.0</td>\n",
       "      <td>697.0</td>\n",
       "      <td>150.0</td>\n",
       "      <td>356.0</td>\n",
       "      <td>114.0</td>\n",
       "      <td>2.5568</td>\n",
       "      <td>77100.0</td>\n",
       "      <td>INLAND</td>\n",
       "    </tr>\n",
       "    <tr>\n",
       "      <th>18376</th>\n",
       "      <td>-121.22</td>\n",
       "      <td>39.43</td>\n",
       "      <td>17.0</td>\n",
       "      <td>2254.0</td>\n",
       "      <td>485.0</td>\n",
       "      <td>1007.0</td>\n",
       "      <td>433.0</td>\n",
       "      <td>1.7000</td>\n",
       "      <td>92300.0</td>\n",
       "      <td>INLAND</td>\n",
       "    </tr>\n",
       "    <tr>\n",
       "      <th>18377</th>\n",
       "      <td>-121.32</td>\n",
       "      <td>39.43</td>\n",
       "      <td>18.0</td>\n",
       "      <td>1860.0</td>\n",
       "      <td>409.0</td>\n",
       "      <td>741.0</td>\n",
       "      <td>349.0</td>\n",
       "      <td>1.8672</td>\n",
       "      <td>84700.0</td>\n",
       "      <td>INLAND</td>\n",
       "    </tr>\n",
       "    <tr>\n",
       "      <th>18378</th>\n",
       "      <td>-121.24</td>\n",
       "      <td>39.37</td>\n",
       "      <td>16.0</td>\n",
       "      <td>2785.0</td>\n",
       "      <td>616.0</td>\n",
       "      <td>1387.0</td>\n",
       "      <td>530.0</td>\n",
       "      <td>2.3886</td>\n",
       "      <td>89400.0</td>\n",
       "      <td>INLAND</td>\n",
       "    </tr>\n",
       "  </tbody>\n",
       "</table>\n",
       "<p>18379 rows × 10 columns</p>\n",
       "</div>"
      ],
      "text/plain": [
       "       longitude  latitude  housing_median_age  total_rooms  total_bedrooms  \\\n",
       "0        -122.23     37.88                41.0        880.0           129.0   \n",
       "1        -122.22     37.86                21.0       7099.0          1106.0   \n",
       "2        -122.26     37.84                42.0       2555.0           665.0   \n",
       "3        -122.26     37.85                50.0       1120.0           283.0   \n",
       "4        -122.26     37.84                50.0       2239.0           455.0   \n",
       "...          ...       ...                 ...          ...             ...   \n",
       "18374    -121.09     39.48                25.0       1665.0           374.0   \n",
       "18375    -121.21     39.49                18.0        697.0           150.0   \n",
       "18376    -121.22     39.43                17.0       2254.0           485.0   \n",
       "18377    -121.32     39.43                18.0       1860.0           409.0   \n",
       "18378    -121.24     39.37                16.0       2785.0           616.0   \n",
       "\n",
       "       population  households  median_income  median_house_value  \\\n",
       "0           322.0       126.0         8.3252            452600.0   \n",
       "1          2401.0      1138.0         8.3014            358500.0   \n",
       "2          1206.0       595.0         2.0804            226700.0   \n",
       "3           697.0       264.0         2.1250            140000.0   \n",
       "4           990.0       419.0         1.9911            158700.0   \n",
       "...           ...         ...            ...                 ...   \n",
       "18374       845.0       330.0         1.5603             78100.0   \n",
       "18375       356.0       114.0         2.5568             77100.0   \n",
       "18376      1007.0       433.0         1.7000             92300.0   \n",
       "18377       741.0       349.0         1.8672             84700.0   \n",
       "18378      1387.0       530.0         2.3886             89400.0   \n",
       "\n",
       "      ocean_proximity  \n",
       "0            NEAR BAY  \n",
       "1            NEAR BAY  \n",
       "2            NEAR BAY  \n",
       "3            NEAR BAY  \n",
       "4            NEAR BAY  \n",
       "...               ...  \n",
       "18374          INLAND  \n",
       "18375          INLAND  \n",
       "18376          INLAND  \n",
       "18377          INLAND  \n",
       "18378          INLAND  \n",
       "\n",
       "[18379 rows x 10 columns]"
      ]
     },
     "execution_count": 9,
     "metadata": {},
     "output_type": "execute_result"
    }
   ],
   "source": [
    "housing_data"
   ]
  },
  {
   "cell_type": "markdown",
   "id": "e188ee0d",
   "metadata": {},
   "source": [
    "## Split the data into test-train split"
   ]
  },
  {
   "cell_type": "code",
   "execution_count": 10,
   "id": "7ab25fda",
   "metadata": {},
   "outputs": [
    {
     "data": {
      "text/plain": [
       "<Axes: >"
      ]
     },
     "execution_count": 10,
     "metadata": {},
     "output_type": "execute_result"
    },
    {
     "data": {
      "image/png": "[encoded data removed]",
      "text/plain": [
       "<Figure size 640x480 with 1 Axes>"
      ]
     },
     "metadata": {},
     "output_type": "display_data"
    }
   ],
   "source": [
    "#identify the the vital column with equal ratio\n",
    "housing_data['income_category'] = pd.cut(housing_data['median_income'], \n",
    "                                 bins = [0.,1.5, 3.0, 4.5, 6.0, np.inf],\n",
    "                                 labels = [1,2,3,4,5])\n",
    "housing_data['income_category'].hist()\n",
    "#the data will be split attempting to maintain the ratio across the income_category"
   ]
  },
  {
   "cell_type": "code",
   "execution_count": 11,
   "id": "56619279",
   "metadata": {},
   "outputs": [],
   "source": [
    "#Stratified Sampling\n",
    "#now to perform some stratified sampling\n",
    "from sklearn.model_selection import StratifiedShuffleSplit\n",
    "\n",
    "split = StratifiedShuffleSplit(n_splits=1, test_size=0.2, random_state=42)\n",
    "for train_index, test_index in split.split(housing_data, housing_data[\"income_category\"]):\n",
    "    train_set = housing_data.loc[train_index] #train set 80%\n",
    "    test_set = housing_data.loc[test_index] #test set 20%"
   ]
  },
  {
   "cell_type": "markdown",
   "id": "a2f648cc",
   "metadata": {},
   "source": [
    "## Feature Engineering"
   ]
  },
  {
   "cell_type": "code",
   "execution_count": 12,
   "id": "1b2f7337",
   "metadata": {},
   "outputs": [
    {
     "data": {
      "text/plain": [
       "latitude             -0.174418\n",
       "longitude            -0.019881\n",
       "housing_median_age    0.012506\n",
       "population            0.018926\n",
       "total_bedrooms        0.081722\n",
       "households            0.100259\n",
       "total_rooms           0.155461\n",
       "income_category       0.628912\n",
       "median_income         0.662379\n",
       "median_house_value    1.000000\n",
       "Name: median_house_value, dtype: float64"
      ]
     },
     "execution_count": 12,
     "metadata": {},
     "output_type": "execute_result"
    }
   ],
   "source": [
    "train_set.drop('ocean_proximity', axis = 1).corr()['median_house_value'].sort_values(ascending = True)"
   ]
  },
  {
   "cell_type": "code",
   "execution_count": 13,
   "id": "a11cdb6d",
   "metadata": {},
   "outputs": [],
   "source": [
    "def feature_engineering(data):\n",
    "    data = data.copy()\n",
    "    data[\"rooms_per_household\"] = data[\"total_rooms\"]/data[\"households\"]\n",
    "    data[\"bedrooms_per_room\"] = data[\"total_bedrooms\"]/data[\"total_rooms\"]\n",
    "    data[\"population_per_household\"]=data[\"population\"]/data[\"households\"]\n",
    "    data = data.dropna()\n",
    "    return data"
   ]
  },
  {
   "cell_type": "code",
   "execution_count": 14,
   "id": "9faf197d",
   "metadata": {},
   "outputs": [],
   "source": [
    "train_set = feature_engineering(train_set)"
   ]
  },
  {
   "cell_type": "markdown",
   "id": "3facac06",
   "metadata": {},
   "source": [
    "## Create Model Pipeline"
   ]
  },
  {
   "cell_type": "code",
   "execution_count": 15,
   "id": "d79fbe13",
   "metadata": {},
   "outputs": [],
   "source": [
    "#divide the train set into labels and features\n",
    "housing_labels = train_set['median_house_value'].copy()\n",
    "housing_feat = train_set.drop('median_house_value',axis = 1).copy()"
   ]
  },
  {
   "cell_type": "code",
   "execution_count": 16,
   "id": "e0e7a637",
   "metadata": {},
   "outputs": [
    {
     "data": {
      "text/html": [
       "<div>\n",
       "<style scoped>\n",
       "    .dataframe tbody tr th:only-of-type {\n",
       "        vertical-align: middle;\n",
       "    }\n",
       "\n",
       "    .dataframe tbody tr th {\n",
       "        vertical-align: top;\n",
       "    }\n",
       "\n",
       "    .dataframe thead th {\n",
       "        text-align: right;\n",
       "    }\n",
       "</style>\n",
       "<table border=\"1\" class=\"dataframe\">\n",
       "  <thead>\n",
       "    <tr style=\"text-align: right;\">\n",
       "      <th></th>\n",
       "      <th>longitude</th>\n",
       "      <th>latitude</th>\n",
       "      <th>housing_median_age</th>\n",
       "      <th>total_rooms</th>\n",
       "      <th>total_bedrooms</th>\n",
       "      <th>population</th>\n",
       "      <th>households</th>\n",
       "      <th>median_income</th>\n",
       "      <th>ocean_proximity</th>\n",
       "      <th>income_category</th>\n",
       "      <th>rooms_per_household</th>\n",
       "      <th>bedrooms_per_room</th>\n",
       "      <th>population_per_household</th>\n",
       "    </tr>\n",
       "  </thead>\n",
       "  <tbody>\n",
       "    <tr>\n",
       "      <th>15539</th>\n",
       "      <td>-121.89</td>\n",
       "      <td>37.32</td>\n",
       "      <td>34.0</td>\n",
       "      <td>1014.0</td>\n",
       "      <td>246.0</td>\n",
       "      <td>952.0</td>\n",
       "      <td>215.0</td>\n",
       "      <td>2.8864</td>\n",
       "      <td>&lt;1H OCEAN</td>\n",
       "      <td>2</td>\n",
       "      <td>4.716279</td>\n",
       "      <td>0.242604</td>\n",
       "      <td>4.427907</td>\n",
       "    </tr>\n",
       "    <tr>\n",
       "      <th>3219</th>\n",
       "      <td>-118.53</td>\n",
       "      <td>34.23</td>\n",
       "      <td>32.0</td>\n",
       "      <td>4039.0</td>\n",
       "      <td>984.0</td>\n",
       "      <td>2675.0</td>\n",
       "      <td>941.0</td>\n",
       "      <td>3.0321</td>\n",
       "      <td>&lt;1H OCEAN</td>\n",
       "      <td>3</td>\n",
       "      <td>4.292242</td>\n",
       "      <td>0.243625</td>\n",
       "      <td>2.842721</td>\n",
       "    </tr>\n",
       "    <tr>\n",
       "      <th>9287</th>\n",
       "      <td>-117.68</td>\n",
       "      <td>33.49</td>\n",
       "      <td>17.0</td>\n",
       "      <td>2232.0</td>\n",
       "      <td>372.0</td>\n",
       "      <td>1072.0</td>\n",
       "      <td>385.0</td>\n",
       "      <td>4.2450</td>\n",
       "      <td>&lt;1H OCEAN</td>\n",
       "      <td>3</td>\n",
       "      <td>5.797403</td>\n",
       "      <td>0.166667</td>\n",
       "      <td>2.784416</td>\n",
       "    </tr>\n",
       "    <tr>\n",
       "      <th>10301</th>\n",
       "      <td>-118.07</td>\n",
       "      <td>33.80</td>\n",
       "      <td>34.0</td>\n",
       "      <td>3486.0</td>\n",
       "      <td>507.0</td>\n",
       "      <td>1311.0</td>\n",
       "      <td>503.0</td>\n",
       "      <td>7.1221</td>\n",
       "      <td>&lt;1H OCEAN</td>\n",
       "      <td>5</td>\n",
       "      <td>6.930417</td>\n",
       "      <td>0.145439</td>\n",
       "      <td>2.606362</td>\n",
       "    </tr>\n",
       "    <tr>\n",
       "      <th>12857</th>\n",
       "      <td>-117.11</td>\n",
       "      <td>32.70</td>\n",
       "      <td>34.0</td>\n",
       "      <td>2028.0</td>\n",
       "      <td>522.0</td>\n",
       "      <td>1797.0</td>\n",
       "      <td>464.0</td>\n",
       "      <td>1.7402</td>\n",
       "      <td>NEAR OCEAN</td>\n",
       "      <td>2</td>\n",
       "      <td>4.370690</td>\n",
       "      <td>0.257396</td>\n",
       "      <td>3.872845</td>\n",
       "    </tr>\n",
       "    <tr>\n",
       "      <th>...</th>\n",
       "      <td>...</td>\n",
       "      <td>...</td>\n",
       "      <td>...</td>\n",
       "      <td>...</td>\n",
       "      <td>...</td>\n",
       "      <td>...</td>\n",
       "      <td>...</td>\n",
       "      <td>...</td>\n",
       "      <td>...</td>\n",
       "      <td>...</td>\n",
       "      <td>...</td>\n",
       "      <td>...</td>\n",
       "      <td>...</td>\n",
       "    </tr>\n",
       "    <tr>\n",
       "      <th>5001</th>\n",
       "      <td>-118.30</td>\n",
       "      <td>34.16</td>\n",
       "      <td>35.0</td>\n",
       "      <td>3213.0</td>\n",
       "      <td>874.0</td>\n",
       "      <td>2401.0</td>\n",
       "      <td>819.0</td>\n",
       "      <td>2.8342</td>\n",
       "      <td>&lt;1H OCEAN</td>\n",
       "      <td>2</td>\n",
       "      <td>3.923077</td>\n",
       "      <td>0.272020</td>\n",
       "      <td>2.931624</td>\n",
       "    </tr>\n",
       "    <tr>\n",
       "      <th>16076</th>\n",
       "      <td>-122.04</td>\n",
       "      <td>37.34</td>\n",
       "      <td>19.0</td>\n",
       "      <td>3694.0</td>\n",
       "      <td>1036.0</td>\n",
       "      <td>2496.0</td>\n",
       "      <td>986.0</td>\n",
       "      <td>3.6991</td>\n",
       "      <td>&lt;1H OCEAN</td>\n",
       "      <td>3</td>\n",
       "      <td>3.746450</td>\n",
       "      <td>0.280455</td>\n",
       "      <td>2.531440</td>\n",
       "    </tr>\n",
       "    <tr>\n",
       "      <th>2071</th>\n",
       "      <td>-119.28</td>\n",
       "      <td>37.11</td>\n",
       "      <td>34.0</td>\n",
       "      <td>1901.0</td>\n",
       "      <td>394.0</td>\n",
       "      <td>171.0</td>\n",
       "      <td>73.0</td>\n",
       "      <td>3.0729</td>\n",
       "      <td>INLAND</td>\n",
       "      <td>3</td>\n",
       "      <td>26.041096</td>\n",
       "      <td>0.207259</td>\n",
       "      <td>2.342466</td>\n",
       "    </tr>\n",
       "    <tr>\n",
       "      <th>11167</th>\n",
       "      <td>-121.48</td>\n",
       "      <td>38.57</td>\n",
       "      <td>47.0</td>\n",
       "      <td>2438.0</td>\n",
       "      <td>804.0</td>\n",
       "      <td>1148.0</td>\n",
       "      <td>747.0</td>\n",
       "      <td>1.4301</td>\n",
       "      <td>INLAND</td>\n",
       "      <td>1</td>\n",
       "      <td>3.263722</td>\n",
       "      <td>0.329779</td>\n",
       "      <td>1.536814</td>\n",
       "    </tr>\n",
       "    <tr>\n",
       "      <th>10134</th>\n",
       "      <td>-117.98</td>\n",
       "      <td>33.70</td>\n",
       "      <td>16.0</td>\n",
       "      <td>5127.0</td>\n",
       "      <td>631.0</td>\n",
       "      <td>2142.0</td>\n",
       "      <td>596.0</td>\n",
       "      <td>7.8195</td>\n",
       "      <td>&lt;1H OCEAN</td>\n",
       "      <td>5</td>\n",
       "      <td>8.602349</td>\n",
       "      <td>0.123074</td>\n",
       "      <td>3.593960</td>\n",
       "    </tr>\n",
       "  </tbody>\n",
       "</table>\n",
       "<p>14703 rows × 13 columns</p>\n",
       "</div>"
      ],
      "text/plain": [
       "       longitude  latitude  housing_median_age  total_rooms  total_bedrooms  \\\n",
       "15539    -121.89     37.32                34.0       1014.0           246.0   \n",
       "3219     -118.53     34.23                32.0       4039.0           984.0   \n",
       "9287     -117.68     33.49                17.0       2232.0           372.0   \n",
       "10301    -118.07     33.80                34.0       3486.0           507.0   \n",
       "12857    -117.11     32.70                34.0       2028.0           522.0   \n",
       "...          ...       ...                 ...          ...             ...   \n",
       "5001     -118.30     34.16                35.0       3213.0           874.0   \n",
       "16076    -122.04     37.34                19.0       3694.0          1036.0   \n",
       "2071     -119.28     37.11                34.0       1901.0           394.0   \n",
       "11167    -121.48     38.57                47.0       2438.0           804.0   \n",
       "10134    -117.98     33.70                16.0       5127.0           631.0   \n",
       "\n",
       "       population  households  median_income ocean_proximity income_category  \\\n",
       "15539       952.0       215.0         2.8864       <1H OCEAN               2   \n",
       "3219       2675.0       941.0         3.0321       <1H OCEAN               3   \n",
       "9287       1072.0       385.0         4.2450       <1H OCEAN               3   \n",
       "10301      1311.0       503.0         7.1221       <1H OCEAN               5   \n",
       "12857      1797.0       464.0         1.7402      NEAR OCEAN               2   \n",
       "...           ...         ...            ...             ...             ...   \n",
       "5001       2401.0       819.0         2.8342       <1H OCEAN               2   \n",
       "16076      2496.0       986.0         3.6991       <1H OCEAN               3   \n",
       "2071        171.0        73.0         3.0729          INLAND               3   \n",
       "11167      1148.0       747.0         1.4301          INLAND               1   \n",
       "10134      2142.0       596.0         7.8195       <1H OCEAN               5   \n",
       "\n",
       "       rooms_per_household  bedrooms_per_room  population_per_household  \n",
       "15539             4.716279           0.242604                  4.427907  \n",
       "3219              4.292242           0.243625                  2.842721  \n",
       "9287              5.797403           0.166667                  2.784416  \n",
       "10301             6.930417           0.145439                  2.606362  \n",
       "12857             4.370690           0.257396                  3.872845  \n",
       "...                    ...                ...                       ...  \n",
       "5001              3.923077           0.272020                  2.931624  \n",
       "16076             3.746450           0.280455                  2.531440  \n",
       "2071             26.041096           0.207259                  2.342466  \n",
       "11167             3.263722           0.329779                  1.536814  \n",
       "10134             8.602349           0.123074                  3.593960  \n",
       "\n",
       "[14703 rows x 13 columns]"
      ]
     },
     "execution_count": 16,
     "metadata": {},
     "output_type": "execute_result"
    }
   ],
   "source": [
    "housing_feat"
   ]
  },
  {
   "cell_type": "code",
   "execution_count": 17,
   "id": "4660f8c8",
   "metadata": {},
   "outputs": [],
   "source": [
    "from sklearn.impute import SimpleImputer # to put impute median into the NaN values\n",
    "from sklearn.preprocessing import StandardScaler # scales the columns about the mean\n",
    "from sklearn.preprocessing import OneHotEncoder # converts the category into numerical values\n",
    "from sklearn.pipeline import Pipeline # create pipeline and performs transformation on the entire dataset\n",
    "from sklearn.compose import ColumnTransformer #performs transformation on specific columns\n",
    "\n",
    "num_attribs = housing_feat.drop('ocean_proximity', axis = 1).columns #numerical atttributes\n",
    "cat_attribs = [\"ocean_proximity\"] #categorical attributes\n",
    "\n",
    "#create the pipeline\n",
    "num_pipeline = Pipeline([('imputer', SimpleImputer(strategy = \"median\")),\n",
    "                         ('std_scaler', StandardScaler()),\n",
    "                          ])\n",
    "\n",
    "#apply the categorical transformer to cat_attribs\n",
    "#apply the numeric_pipeline to num_attribs\n",
    "pipeline = ColumnTransformer([\n",
    "                     (\"cat\", OneHotEncoder(), cat_attribs),\n",
    "                     (\"num\", num_pipeline, num_attribs),\n",
    "                     ])"
   ]
  },
  {
   "cell_type": "code",
   "execution_count": 18,
   "id": "6c16a238",
   "metadata": {},
   "outputs": [],
   "source": [
    "#fit and transform this pipeline to the housing features\n",
    "housing_feat = pipeline.fit_transform(housing_feat)"
   ]
  },
  {
   "cell_type": "markdown",
   "id": "d35775a9",
   "metadata": {},
   "source": [
    "## Selecting an appropriate model"
   ]
  },
  {
   "cell_type": "markdown",
   "id": "10d30122",
   "metadata": {},
   "source": [
    "### Linear Regression "
   ]
  },
  {
   "cell_type": "code",
   "execution_count": 19,
   "id": "3dd422b7",
   "metadata": {},
   "outputs": [],
   "source": [
    "#perform a cross validation for linear regression model\n",
    "from sklearn.linear_model import LinearRegression\n",
    "from sklearn.model_selection import cross_val_score\n",
    "\n",
    "linear_reg = LinearRegression()\n",
    "scores = cross_val_score(linear_reg, housing_feat, housing_labels, \n",
    "                        scoring = \"neg_mean_squared_error\", cv = 10)\n",
    "linear_rsme_scores = np.sqrt(-scores)"
   ]
  },
  {
   "cell_type": "code",
   "execution_count": 20,
   "id": "0aa65336",
   "metadata": {},
   "outputs": [
    {
     "name": "stdout",
     "output_type": "stream",
     "text": [
      "[5.64068884e+04 6.15261666e+04 5.91144758e+04 3.61359168e+15\n",
      " 6.33360278e+04 5.83443191e+04 5.87253157e+04 5.40419144e+04\n",
      " 5.86149854e+04 5.81050892e+04]\n",
      "Mean Error: 361359168510733.4\n",
      "Standard Deviation: 1084077505356128.2\n"
     ]
    }
   ],
   "source": [
    "print(linear_rsme_scores)\n",
    "print('Mean Error:', linear_rsme_scores.mean()) #print root mean square errors from the prices \n",
    "print('Standard Deviation:', linear_rsme_scores.std())"
   ]
  },
  {
   "cell_type": "markdown",
   "id": "c25e4f6b",
   "metadata": {},
   "source": [
    "We obtained root mean square errors that are totally outrageous. This is due to the presence of outliers in the dataset. The RSME metric makes the presence of these outliers more pronounced."
   ]
  },
  {
   "cell_type": "markdown",
   "id": "449ce503",
   "metadata": {},
   "source": [
    "### Decision Tree Regressor"
   ]
  },
  {
   "cell_type": "code",
   "execution_count": 21,
   "id": "08d609ef",
   "metadata": {},
   "outputs": [],
   "source": [
    "#perform a cross validation for decision tree regressor\n",
    "from sklearn.tree import DecisionTreeRegressor\n",
    "from sklearn.model_selection import cross_val_score\n",
    "\n",
    "tree_reg = DecisionTreeRegressor()\n",
    "scores = cross_val_score(tree_reg, housing_feat, housing_labels, \n",
    "                        scoring = \"neg_mean_squared_error\", cv = 10)\n",
    "tree_rsme_scores = np.sqrt(-scores)"
   ]
  },
  {
   "cell_type": "code",
   "execution_count": 22,
   "id": "f51987ba",
   "metadata": {},
   "outputs": [
    {
     "name": "stdout",
     "output_type": "stream",
     "text": [
      "[62396.75491396 65789.93629119 62775.45596964 61318.77818274\n",
      " 64061.9380347  63973.38351827 65591.86954449 60609.7779824\n",
      " 65063.35542414 63388.64527283]\n",
      "63496.9895134361\n",
      "1657.3837167410165\n"
     ]
    }
   ],
   "source": [
    "print(tree_rsme_scores)\n",
    "print(tree_rsme_scores.mean()) #print root mean square errors from the prices \n",
    "print(tree_rsme_scores.std())"
   ]
  },
  {
   "cell_type": "markdown",
   "id": "475ac174",
   "metadata": {},
   "source": [
    "Decision Tree returns a large RSME output averaging 63,000+. This can definitely be improved."
   ]
  },
  {
   "cell_type": "markdown",
   "id": "9ba944b3",
   "metadata": {},
   "source": [
    "### Random Forest Generator"
   ]
  },
  {
   "cell_type": "code",
   "execution_count": 23,
   "id": "22febcf7",
   "metadata": {},
   "outputs": [
    {
     "data": {
      "text/plain": [
       "50625.96732747928"
      ]
     },
     "execution_count": 23,
     "metadata": {},
     "output_type": "execute_result"
    }
   ],
   "source": [
    "#perform simple random forest regressor model\n",
    "from sklearn.ensemble import RandomForestRegressor\n",
    "from sklearn.metrics import mean_squared_error\n",
    "\n",
    "#some_feat\n",
    "some_feat = housing_feat[:3001]\n",
    "some_labels = housing_labels[:3001]\n",
    "\n",
    "some_test = housing_feat[3001:4001]\n",
    "some_test_label = housing_labels[3001:4001]\n",
    "\n",
    "forest_reg = RandomForestRegressor()\n",
    "forest_reg.fit(some_feat, some_labels)\n",
    "some_pred = forest_reg.predict(some_test)\n",
    "                               \n",
    "forest_mse = mean_squared_error(some_test_label, some_pred)\n",
    "forest_rsme = np.sqrt(forest_mse)\n",
    "forest_rsme"
   ]
  },
  {
   "cell_type": "markdown",
   "id": "07958713",
   "metadata": {},
   "source": [
    "This model performs about 21% better than the other model. Hyperparameter tuning would probably improve results."
   ]
  },
  {
   "cell_type": "code",
   "execution_count": 24,
   "id": "d42fcbba",
   "metadata": {},
   "outputs": [],
   "source": [
    "#perform a cross validation for random forest regressor\n",
    "from sklearn.ensemble import RandomForestRegressor\n",
    "from sklearn.model_selection import cross_val_score\n",
    "\n",
    "forest_reg2 = RandomForestRegressor() \n",
    "scores = cross_val_score(forest_reg2, housing_feat, housing_labels, \n",
    "                        scoring = \"neg_mean_squared_error\",cv = 4)\n",
    "forest_rsme_scores = np.sqrt(-scores)"
   ]
  },
  {
   "cell_type": "code",
   "execution_count": 25,
   "id": "f8fae2b4",
   "metadata": {},
   "outputs": [
    {
     "name": "stdout",
     "output_type": "stream",
     "text": [
      "[46082.36141376 45457.16238919 44442.94167137 45088.0333564 ]\n",
      "45267.624707680094\n",
      "594.1539356069961\n"
     ]
    }
   ],
   "source": [
    "print(forest_rsme_scores)\n",
    "print(forest_rsme_scores.mean()) #print root mean square errors from the prices \n",
    "print(forest_rsme_scores.std())"
   ]
  },
  {
   "cell_type": "markdown",
   "id": "0e168edf",
   "metadata": {},
   "source": [
    "## Grid Search Cross Validation"
   ]
  },
  {
   "cell_type": "markdown",
   "id": "fc21d072",
   "metadata": {},
   "source": [
    "### Grid Search Cross Validation for Random Forest "
   ]
  },
  {
   "cell_type": "markdown",
   "id": "609b5fa8",
   "metadata": {},
   "source": [
    "Grid Search will allow me compare different values for different parameters in the data"
   ]
  },
  {
   "cell_type": "code",
   "execution_count": 26,
   "id": "3410cf67",
   "metadata": {},
   "outputs": [
    {
     "data": {
      "text/html": [
       "<style>#sk-container-id-1 {color: black;}#sk-container-id-1 pre{padding: 0;}#sk-container-id-1 div.sk-toggleable {background-color: white;}#sk-container-id-1 label.sk-toggleable__label {cursor: pointer;display: block;width: 100%;margin-bottom: 0;padding: 0.3em;box-sizing: border-box;text-align: center;}#sk-container-id-1 label.sk-toggleable__label-arrow:before {content: \"▸\";float: left;margin-right: 0.25em;color: #696969;}#sk-container-id-1 label.sk-toggleable__label-arrow:hover:before {color: black;}#sk-container-id-1 div.sk-estimator:hover label.sk-toggleable__label-arrow:before {color: black;}#sk-container-id-1 div.sk-toggleable__content {max-height: 0;max-width: 0;overflow: hidden;text-align: left;background-color: #f0f8ff;}#sk-container-id-1 div.sk-toggleable__content pre {margin: 0.2em;color: black;border-radius: 0.25em;background-color: #f0f8ff;}#sk-container-id-1 input.sk-toggleable__control:checked~div.sk-toggleable__content {max-height: 200px;max-width: 100%;overflow: auto;}#sk-container-id-1 input.sk-toggleable__control:checked~label.sk-toggleable__label-arrow:before {content: \"▾\";}#sk-container-id-1 div.sk-estimator input.sk-toggleable__control:checked~label.sk-toggleable__label {background-color: #d4ebff;}#sk-container-id-1 div.sk-label input.sk-toggleable__control:checked~label.sk-toggleable__label {background-color: #d4ebff;}#sk-container-id-1 input.sk-hidden--visually {border: 0;clip: rect(1px 1px 1px 1px);clip: rect(1px, 1px, 1px, 1px);height: 1px;margin: -1px;overflow: hidden;padding: 0;position: absolute;width: 1px;}#sk-container-id-1 div.sk-estimator {font-family: monospace;background-color: #f0f8ff;border: 1px dotted black;border-radius: 0.25em;box-sizing: border-box;margin-bottom: 0.5em;}#sk-container-id-1 div.sk-estimator:hover {background-color: #d4ebff;}#sk-container-id-1 div.sk-parallel-item::after {content: \"\";width: 100%;border-bottom: 1px solid gray;flex-grow: 1;}#sk-container-id-1 div.sk-label:hover label.sk-toggleable__label {background-color: #d4ebff;}#sk-container-id-1 div.sk-serial::before {content: \"\";position: absolute;border-left: 1px solid gray;box-sizing: border-box;top: 0;bottom: 0;left: 50%;z-index: 0;}#sk-container-id-1 div.sk-serial {display: flex;flex-direction: column;align-items: center;background-color: white;padding-right: 0.2em;padding-left: 0.2em;position: relative;}#sk-container-id-1 div.sk-item {position: relative;z-index: 1;}#sk-container-id-1 div.sk-parallel {display: flex;align-items: stretch;justify-content: center;background-color: white;position: relative;}#sk-container-id-1 div.sk-item::before, #sk-container-id-1 div.sk-parallel-item::before {content: \"\";position: absolute;border-left: 1px solid gray;box-sizing: border-box;top: 0;bottom: 0;left: 50%;z-index: -1;}#sk-container-id-1 div.sk-parallel-item {display: flex;flex-direction: column;z-index: 1;position: relative;background-color: white;}#sk-container-id-1 div.sk-parallel-item:first-child::after {align-self: flex-end;width: 50%;}#sk-container-id-1 div.sk-parallel-item:last-child::after {align-self: flex-start;width: 50%;}#sk-container-id-1 div.sk-parallel-item:only-child::after {width: 0;}#sk-container-id-1 div.sk-dashed-wrapped {border: 1px dashed gray;margin: 0 0.4em 0.5em 0.4em;box-sizing: border-box;padding-bottom: 0.4em;background-color: white;}#sk-container-id-1 div.sk-label label {font-family: monospace;font-weight: bold;display: inline-block;line-height: 1.2em;}#sk-container-id-1 div.sk-label-container {text-align: center;}#sk-container-id-1 div.sk-container {/* jupyter's `normalize.less` sets `[hidden] { display: none; }` but bootstrap.min.css set `[hidden] { display: none !important; }` so we also need the `!important` here to be able to override the default hidden behavior on the sphinx rendered scikit-learn.org. See: https://github.com/scikit-learn/scikit-learn/issues/21755 */display: inline-block !important;position: relative;}#sk-container-id-1 div.sk-text-repr-fallback {display: none;}</style><div id=\"sk-container-id-1\" class=\"sk-top-container\"><div class=\"sk-text-repr-fallback\"><pre>GridSearchCV(cv=4, estimator=RandomForestRegressor(),\n",
       "             param_grid=[{&#x27;max_features&#x27;: [1, 8, 17],\n",
       "                          &#x27;n_estimators&#x27;: [30, 90, 100]}],\n",
       "             return_train_score=True, scoring=&#x27;neg_mean_squared_error&#x27;)</pre><b>In a Jupyter environment, please rerun this cell to show the HTML representation or trust the notebook. <br />On GitHub, the HTML representation is unable to render, please try loading this page with nbviewer.org.</b></div><div class=\"sk-container\" hidden><div class=\"sk-item sk-dashed-wrapped\"><div class=\"sk-label-container\"><div class=\"sk-label sk-toggleable\"><input class=\"sk-toggleable__control sk-hidden--visually\" id=\"sk-estimator-id-1\" type=\"checkbox\" ><label for=\"sk-estimator-id-1\" class=\"sk-toggleable__label sk-toggleable__label-arrow\">GridSearchCV</label><div class=\"sk-toggleable__content\"><pre>GridSearchCV(cv=4, estimator=RandomForestRegressor(),\n",
       "             param_grid=[{&#x27;max_features&#x27;: [1, 8, 17],\n",
       "                          &#x27;n_estimators&#x27;: [30, 90, 100]}],\n",
       "             return_train_score=True, scoring=&#x27;neg_mean_squared_error&#x27;)</pre></div></div></div><div class=\"sk-parallel\"><div class=\"sk-parallel-item\"><div class=\"sk-item\"><div class=\"sk-label-container\"><div class=\"sk-label sk-toggleable\"><input class=\"sk-toggleable__control sk-hidden--visually\" id=\"sk-estimator-id-2\" type=\"checkbox\" ><label for=\"sk-estimator-id-2\" class=\"sk-toggleable__label sk-toggleable__label-arrow\">estimator: RandomForestRegressor</label><div class=\"sk-toggleable__content\"><pre>RandomForestRegressor()</pre></div></div></div><div class=\"sk-serial\"><div class=\"sk-item\"><div class=\"sk-estimator sk-toggleable\"><input class=\"sk-toggleable__control sk-hidden--visually\" id=\"sk-estimator-id-3\" type=\"checkbox\" ><label for=\"sk-estimator-id-3\" class=\"sk-toggleable__label sk-toggleable__label-arrow\">RandomForestRegressor</label><div class=\"sk-toggleable__content\"><pre>RandomForestRegressor()</pre></div></div></div></div></div></div></div></div></div></div>"
      ],
      "text/plain": [
       "GridSearchCV(cv=4, estimator=RandomForestRegressor(),\n",
       "             param_grid=[{'max_features': [1, 8, 17],\n",
       "                          'n_estimators': [30, 90, 100]}],\n",
       "             return_train_score=True, scoring='neg_mean_squared_error')"
      ]
     },
     "execution_count": 26,
     "metadata": {},
     "output_type": "execute_result"
    }
   ],
   "source": [
    "#Using Grid Search CV for random forests again\n",
    "from sklearn.model_selection import GridSearchCV\n",
    "\n",
    "param_grid = [\n",
    "    {'n_estimators': [30, 90, 100], 'max_features': [1, 8, 17]},\n",
    "]\n",
    "\n",
    "forest_reg = RandomForestRegressor()\n",
    "grid_search = GridSearchCV(forest_reg, param_grid, cv=4,\n",
    "                          scoring = 'neg_mean_squared_error',\n",
    "                          return_train_score = True)\n",
    "grid_search.fit(housing_feat, housing_labels)"
   ]
  },
  {
   "cell_type": "code",
   "execution_count": 27,
   "id": "a85370d0",
   "metadata": {},
   "outputs": [
    {
     "data": {
      "text/plain": [
       "{'max_features': 8, 'n_estimators': 100}"
      ]
     },
     "execution_count": 27,
     "metadata": {},
     "output_type": "execute_result"
    }
   ],
   "source": [
    "grid_search.best_params_"
   ]
  },
  {
   "cell_type": "code",
   "execution_count": 28,
   "id": "9b64123b",
   "metadata": {},
   "outputs": [
    {
     "name": "stdout",
     "output_type": "stream",
     "text": [
      "49729.424193892155 {'max_features': 1, 'n_estimators': 30}\n",
      "48764.101734367294 {'max_features': 1, 'n_estimators': 90}\n",
      "48787.3728154768 {'max_features': 1, 'n_estimators': 100}\n",
      "45690.82479775161 {'max_features': 8, 'n_estimators': 30}\n",
      "45176.68863246965 {'max_features': 8, 'n_estimators': 90}\n",
      "45104.955755057694 {'max_features': 8, 'n_estimators': 100}\n",
      "46019.619306707515 {'max_features': 17, 'n_estimators': 30}\n",
      "45299.58556061037 {'max_features': 17, 'n_estimators': 90}\n",
      "45356.892005975606 {'max_features': 17, 'n_estimators': 100}\n"
     ]
    }
   ],
   "source": [
    "#cross validation scores \n",
    "gridcvres = grid_search.cv_results_\n",
    "for mean_score, params in zip(gridcvres['mean_test_score'], gridcvres['params']):\n",
    "    print(np.sqrt(-mean_score),params)"
   ]
  },
  {
   "cell_type": "markdown",
   "id": "9f1619b2",
   "metadata": {},
   "source": [
    "the best parameter arrangement is max_features = 8 and n_estimators = 90. I am going to save it and use it in for the test_set"
   ]
  },
  {
   "cell_type": "code",
   "execution_count": 29,
   "id": "163a2671",
   "metadata": {},
   "outputs": [],
   "source": [
    "final_model = grid_search.best_estimator_"
   ]
  },
  {
   "cell_type": "code",
   "execution_count": 33,
   "id": "6f1df5ec",
   "metadata": {},
   "outputs": [
    {
     "data": {
      "text/plain": [
       "['housing_model.pkl']"
      ]
     },
     "execution_count": 33,
     "metadata": {},
     "output_type": "execute_result"
    }
   ],
   "source": [
    "import joblib\n",
    "joblib.dump(final_model,\"housing_model.pkl\")"
   ]
  },
  {
   "cell_type": "code",
   "execution_count": 31,
   "id": "4381c238",
   "metadata": {},
   "outputs": [],
   "source": [
    "#divide the train set into labels and features\n",
    "housing_test_labels = test_set.dropna()['median_house_value'].copy()\n",
    "housing_test_feat = feature_engineering(test_set.dropna().drop('median_house_value',axis = 1).copy())\n",
    "\n",
    "#Pipeline\n",
    "housing_test_pr = pipeline.transform(housing_test_feat)\n",
    "\n",
    "final_predictions = final_model.predict(housing_test_pr)\n",
    "final_mse = mean_squared_error(housing_test_labels, final_predictions)\n",
    "final_rmse = np.sqrt(final_mse)"
   ]
  },
  {
   "cell_type": "code",
   "execution_count": 32,
   "id": "3556e706",
   "metadata": {},
   "outputs": [
    {
     "data": {
      "text/plain": [
       "44018.763380431694"
      ]
     },
     "execution_count": 32,
     "metadata": {},
     "output_type": "execute_result"
    }
   ],
   "source": [
    "final_rmse"
   ]
  }
 ],
 "metadata": {
  "kernelspec": {
   "display_name": "Python 3 (ipykernel)",
   "language": "python",
   "name": "python3"
  },
  "language_info": {
   "codemirror_mode": {
    "name": "ipython",
    "version": 3
   },
   "file_extension": ".py",
   "mimetype": "text/x-python",
   "name": "python",
   "nbconvert_exporter": "python",
   "pygments_lexer": "ipython3",
   "version": "3.11.5"
  }
 },
 "nbformat": 4,
 "nbformat_minor": 5
}
